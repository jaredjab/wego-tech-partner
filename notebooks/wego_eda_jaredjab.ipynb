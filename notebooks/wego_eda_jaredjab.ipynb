{
 "cells": [
  {
   "cell_type": "code",
   "execution_count": 1,
   "id": "5e841645",
   "metadata": {},
   "outputs": [],
   "source": [
    "import pandas as pd\n",
    "import numpy as np\n",
    "import matplotlib.pyplot as plt\n",
    "import seaborn as sns\n",
    "import warnings\n",
    "warnings.filterwarnings('ignore')"
   ]
  },
  {
   "cell_type": "code",
   "execution_count": 2,
   "id": "307ae533",
   "metadata": {},
   "outputs": [],
   "source": [
    "raw_wego = pd.read_csv('../data/wego_headway_data.csv')\n",
    "wego = raw_wego"
   ]
  },
  {
   "cell_type": "code",
   "execution_count": 3,
   "id": "b24b588b",
   "metadata": {
    "scrolled": true
   },
   "outputs": [
    {
     "name": "stdout",
     "output_type": "stream",
     "text": [
      "<class 'pandas.core.frame.DataFrame'>\n",
      "RangeIndex: 350328 entries, 0 to 350327\n",
      "Data columns (total 30 columns):\n",
      " #   Column                     Non-Null Count   Dtype         \n",
      "---  ------                     --------------   -----         \n",
      " 0   CALENDAR_ID                350328 non-null  int64         \n",
      " 1   SERVICE_ABBR               350328 non-null  int64         \n",
      " 2   ADHERENCE_ID               350328 non-null  int64         \n",
      " 3   DATE                       350328 non-null  datetime64[ns]\n",
      " 4   ROUTE_ABBR                 350328 non-null  int64         \n",
      " 5   BLOCK_ABBR                 350328 non-null  int64         \n",
      " 6   OPERATOR                   350328 non-null  int64         \n",
      " 7   TRIP_ID                    350328 non-null  int64         \n",
      " 8   OVERLOAD_ID                350328 non-null  int64         \n",
      " 9   ROUTE_DIRECTION_NAME       350328 non-null  object        \n",
      " 10  TIME_POINT_ABBR            350328 non-null  object        \n",
      " 11  ROUTE_STOP_SEQUENCE        350317 non-null  float64       \n",
      " 12  TRIP_EDGE                  350328 non-null  int64         \n",
      " 13  LATITUDE                   350328 non-null  float64       \n",
      " 14  LONGITUDE                  350328 non-null  float64       \n",
      " 15  SCHEDULED_TIME             350328 non-null  object        \n",
      " 16  ACTUAL_ARRIVAL_TIME        338869 non-null  object        \n",
      " 17  ACTUAL_DEPARTURE_TIME      338860 non-null  object        \n",
      " 18  ADHERENCE                  338860 non-null  float64       \n",
      " 19  SCHEDULED_HDWY             274737 non-null  float64       \n",
      " 20  ACTUAL_HDWY                266061 non-null  float64       \n",
      " 21  HDWY_DEV                   265892 non-null  float64       \n",
      " 22  ADJUSTED_EARLY_COUNT       350328 non-null  int64         \n",
      " 23  ADJUSTED_LATE_COUNT        350328 non-null  int64         \n",
      " 24  ADJUSTED_ONTIME_COUNT      350328 non-null  int64         \n",
      " 25  STOP_CANCELLED             350328 non-null  int64         \n",
      " 26  PREV_SCHED_STOP_CANCELLED  279999 non-null  float64       \n",
      " 27  IS_RELIEF                  350328 non-null  int64         \n",
      " 28  BLOCK_STOP_ORDER           350328 non-null  int64         \n",
      " 29  DWELL_IN_MINS              338857 non-null  float64       \n",
      "dtypes: datetime64[ns](1), float64(9), int64(15), object(5)\n",
      "memory usage: 80.2+ MB\n"
     ]
    }
   ],
   "source": [
    "wego.DATE = pd.to_datetime(wego.DATE)\n",
    "wego.info()"
   ]
  },
  {
   "cell_type": "code",
   "execution_count": 4,
   "id": "3cecc8f8",
   "metadata": {},
   "outputs": [],
   "source": [
    "def uniqueId(cal_id, trip_id):\n",
    "    return str(cal_id) + '_' + str(trip_id)"
   ]
  },
  {
   "cell_type": "code",
   "execution_count": 5,
   "id": "4b5fb538",
   "metadata": {},
   "outputs": [],
   "source": [
    "wego['unique_trip_id'] = wego.apply(lambda x: uniqueId(x.CALENDAR_ID, x.TRIP_ID), axis=1)"
   ]
  },
  {
   "cell_type": "code",
   "execution_count": 6,
   "id": "b597e8ca",
   "metadata": {},
   "outputs": [],
   "source": [
    "def flagger(count):\n",
    "    if count == 0:\n",
    "        return False\n",
    "    elif count == 1:\n",
    "        return True"
   ]
  },
  {
   "cell_type": "code",
   "execution_count": 7,
   "id": "2efa8071",
   "metadata": {},
   "outputs": [],
   "source": [
    "wego['early'] = wego.ADJUSTED_EARLY_COUNT.apply(flagger)\n",
    "wego['late'] = wego.ADJUSTED_LATE_COUNT.apply(flagger)\n",
    "wego['ontime'] = wego.ADJUSTED_ONTIME_COUNT.apply(flagger)\n",
    "wego['stop_cancelled'] = wego.STOP_CANCELLED.apply(flagger)\n",
    "wego['prev_sched_stop_cancelled'] = wego.PREV_SCHED_STOP_CANCELLED.apply(flagger)\n",
    "wego['is_relief'] = wego.IS_RELIEF.apply(flagger)"
   ]
  },
  {
   "cell_type": "code",
   "execution_count": 8,
   "id": "805442b2",
   "metadata": {},
   "outputs": [],
   "source": [
    "def percentHdwyDev(scheduled_hdwy, hdwy_dev):\n",
    "    if hdwy_dev == 0:\n",
    "        return 0\n",
    "    elif ((scheduled_hdwy == np.NaN)\n",
    "         |(hdwy_dev == np.NaN)\n",
    "         |(scheduled_hdwy == 0)):\n",
    "        return np.NaN\n",
    "    else:\n",
    "        hdwy_dev_percent = hdwy_dev / scheduled_hdwy\n",
    "    return hdwy_dev_percent"
   ]
  },
  {
   "cell_type": "code",
   "execution_count": 9,
   "id": "61114a4d",
   "metadata": {},
   "outputs": [],
   "source": [
    "for index, values in wego.iterrows():\n",
    "    wego.loc[index, 'hdwy_dev_percent'] = percentHdwyDev(values.SCHEDULED_HDWY, values.HDWY_DEV)"
   ]
  },
  {
   "cell_type": "code",
   "execution_count": 10,
   "id": "d628acea",
   "metadata": {},
   "outputs": [
    {
     "data": {
      "text/plain": [
       "CALENDAR_ID                      0\n",
       "SERVICE_ABBR                     0\n",
       "ADHERENCE_ID                     0\n",
       "DATE                             0\n",
       "ROUTE_ABBR                       0\n",
       "BLOCK_ABBR                       0\n",
       "OPERATOR                         0\n",
       "TRIP_ID                          0\n",
       "OVERLOAD_ID                      0\n",
       "ROUTE_DIRECTION_NAME             0\n",
       "TIME_POINT_ABBR                  0\n",
       "ROUTE_STOP_SEQUENCE             11\n",
       "TRIP_EDGE                        0\n",
       "LATITUDE                         0\n",
       "LONGITUDE                        0\n",
       "SCHEDULED_TIME                   0\n",
       "ACTUAL_ARRIVAL_TIME          11459\n",
       "ACTUAL_DEPARTURE_TIME        11468\n",
       "ADHERENCE                    11468\n",
       "SCHEDULED_HDWY               75591\n",
       "ACTUAL_HDWY                  84267\n",
       "HDWY_DEV                     84436\n",
       "ADJUSTED_EARLY_COUNT             0\n",
       "ADJUSTED_LATE_COUNT              0\n",
       "ADJUSTED_ONTIME_COUNT            0\n",
       "STOP_CANCELLED                   0\n",
       "PREV_SCHED_STOP_CANCELLED    70329\n",
       "IS_RELIEF                        0\n",
       "BLOCK_STOP_ORDER                 0\n",
       "DWELL_IN_MINS                11471\n",
       "unique_trip_id                   0\n",
       "early                            0\n",
       "late                             0\n",
       "ontime                           0\n",
       "stop_cancelled                   0\n",
       "prev_sched_stop_cancelled    70329\n",
       "is_relief                        0\n",
       "hdwy_dev_percent             84479\n",
       "dtype: int64"
      ]
     },
     "execution_count": 10,
     "metadata": {},
     "output_type": "execute_result"
    }
   ],
   "source": [
    "wego.isna().sum()"
   ]
  },
  {
   "cell_type": "code",
   "execution_count": 11,
   "id": "d40c9a88",
   "metadata": {
    "scrolled": true
   },
   "outputs": [
    {
     "data": {
      "text/html": [
       "<div>\n",
       "<style scoped>\n",
       "    .dataframe tbody tr th:only-of-type {\n",
       "        vertical-align: middle;\n",
       "    }\n",
       "\n",
       "    .dataframe tbody tr th {\n",
       "        vertical-align: top;\n",
       "    }\n",
       "\n",
       "    .dataframe thead th {\n",
       "        text-align: right;\n",
       "    }\n",
       "</style>\n",
       "<table border=\"1\" class=\"dataframe\">\n",
       "  <thead>\n",
       "    <tr style=\"text-align: right;\">\n",
       "      <th></th>\n",
       "      <th>SCHEDULED_HDWY</th>\n",
       "      <th>ACTUAL_HDWY</th>\n",
       "      <th>HDWY_DEV</th>\n",
       "      <th>hdwy_dev_percent</th>\n",
       "    </tr>\n",
       "  </thead>\n",
       "  <tbody>\n",
       "    <tr>\n",
       "      <th>0</th>\n",
       "      <td>NaN</td>\n",
       "      <td>NaN</td>\n",
       "      <td>NaN</td>\n",
       "      <td>NaN</td>\n",
       "    </tr>\n",
       "    <tr>\n",
       "      <th>1</th>\n",
       "      <td>NaN</td>\n",
       "      <td>NaN</td>\n",
       "      <td>NaN</td>\n",
       "      <td>NaN</td>\n",
       "    </tr>\n",
       "    <tr>\n",
       "      <th>2</th>\n",
       "      <td>NaN</td>\n",
       "      <td>NaN</td>\n",
       "      <td>NaN</td>\n",
       "      <td>NaN</td>\n",
       "    </tr>\n",
       "    <tr>\n",
       "      <th>3</th>\n",
       "      <td>NaN</td>\n",
       "      <td>NaN</td>\n",
       "      <td>NaN</td>\n",
       "      <td>NaN</td>\n",
       "    </tr>\n",
       "    <tr>\n",
       "      <th>4</th>\n",
       "      <td>NaN</td>\n",
       "      <td>NaN</td>\n",
       "      <td>NaN</td>\n",
       "      <td>NaN</td>\n",
       "    </tr>\n",
       "    <tr>\n",
       "      <th>5</th>\n",
       "      <td>NaN</td>\n",
       "      <td>NaN</td>\n",
       "      <td>NaN</td>\n",
       "      <td>NaN</td>\n",
       "    </tr>\n",
       "    <tr>\n",
       "      <th>6</th>\n",
       "      <td>NaN</td>\n",
       "      <td>NaN</td>\n",
       "      <td>NaN</td>\n",
       "      <td>NaN</td>\n",
       "    </tr>\n",
       "    <tr>\n",
       "      <th>7</th>\n",
       "      <td>35.0</td>\n",
       "      <td>37.666666</td>\n",
       "      <td>2.666666</td>\n",
       "      <td>0.076190</td>\n",
       "    </tr>\n",
       "    <tr>\n",
       "      <th>8</th>\n",
       "      <td>35.0</td>\n",
       "      <td>36.966666</td>\n",
       "      <td>1.966666</td>\n",
       "      <td>0.056190</td>\n",
       "    </tr>\n",
       "    <tr>\n",
       "      <th>9</th>\n",
       "      <td>15.0</td>\n",
       "      <td>14.516666</td>\n",
       "      <td>-0.483334</td>\n",
       "      <td>-0.032222</td>\n",
       "    </tr>\n",
       "    <tr>\n",
       "      <th>10</th>\n",
       "      <td>NaN</td>\n",
       "      <td>NaN</td>\n",
       "      <td>NaN</td>\n",
       "      <td>NaN</td>\n",
       "    </tr>\n",
       "    <tr>\n",
       "      <th>11</th>\n",
       "      <td>15.0</td>\n",
       "      <td>12.833333</td>\n",
       "      <td>-2.166667</td>\n",
       "      <td>-0.144444</td>\n",
       "    </tr>\n",
       "    <tr>\n",
       "      <th>12</th>\n",
       "      <td>15.0</td>\n",
       "      <td>11.116666</td>\n",
       "      <td>-3.883334</td>\n",
       "      <td>-0.258889</td>\n",
       "    </tr>\n",
       "    <tr>\n",
       "      <th>13</th>\n",
       "      <td>NaN</td>\n",
       "      <td>NaN</td>\n",
       "      <td>NaN</td>\n",
       "      <td>NaN</td>\n",
       "    </tr>\n",
       "    <tr>\n",
       "      <th>14</th>\n",
       "      <td>60.0</td>\n",
       "      <td>59.800000</td>\n",
       "      <td>-0.200000</td>\n",
       "      <td>-0.003333</td>\n",
       "    </tr>\n",
       "    <tr>\n",
       "      <th>15</th>\n",
       "      <td>60.0</td>\n",
       "      <td>60.083333</td>\n",
       "      <td>0.083333</td>\n",
       "      <td>0.001389</td>\n",
       "    </tr>\n",
       "    <tr>\n",
       "      <th>16</th>\n",
       "      <td>15.0</td>\n",
       "      <td>17.716666</td>\n",
       "      <td>2.716666</td>\n",
       "      <td>0.181111</td>\n",
       "    </tr>\n",
       "    <tr>\n",
       "      <th>17</th>\n",
       "      <td>NaN</td>\n",
       "      <td>NaN</td>\n",
       "      <td>NaN</td>\n",
       "      <td>NaN</td>\n",
       "    </tr>\n",
       "    <tr>\n",
       "      <th>18</th>\n",
       "      <td>15.0</td>\n",
       "      <td>15.233333</td>\n",
       "      <td>0.233333</td>\n",
       "      <td>0.015556</td>\n",
       "    </tr>\n",
       "    <tr>\n",
       "      <th>19</th>\n",
       "      <td>15.0</td>\n",
       "      <td>14.616666</td>\n",
       "      <td>-0.383334</td>\n",
       "      <td>-0.025556</td>\n",
       "    </tr>\n",
       "  </tbody>\n",
       "</table>\n",
       "</div>"
      ],
      "text/plain": [
       "    SCHEDULED_HDWY  ACTUAL_HDWY  HDWY_DEV  hdwy_dev_percent\n",
       "0              NaN          NaN       NaN               NaN\n",
       "1              NaN          NaN       NaN               NaN\n",
       "2              NaN          NaN       NaN               NaN\n",
       "3              NaN          NaN       NaN               NaN\n",
       "4              NaN          NaN       NaN               NaN\n",
       "5              NaN          NaN       NaN               NaN\n",
       "6              NaN          NaN       NaN               NaN\n",
       "7             35.0    37.666666  2.666666          0.076190\n",
       "8             35.0    36.966666  1.966666          0.056190\n",
       "9             15.0    14.516666 -0.483334         -0.032222\n",
       "10             NaN          NaN       NaN               NaN\n",
       "11            15.0    12.833333 -2.166667         -0.144444\n",
       "12            15.0    11.116666 -3.883334         -0.258889\n",
       "13             NaN          NaN       NaN               NaN\n",
       "14            60.0    59.800000 -0.200000         -0.003333\n",
       "15            60.0    60.083333  0.083333          0.001389\n",
       "16            15.0    17.716666  2.716666          0.181111\n",
       "17             NaN          NaN       NaN               NaN\n",
       "18            15.0    15.233333  0.233333          0.015556\n",
       "19            15.0    14.616666 -0.383334         -0.025556"
      ]
     },
     "execution_count": 11,
     "metadata": {},
     "output_type": "execute_result"
    }
   ],
   "source": [
    "wego.head(20)[['SCHEDULED_HDWY', 'ACTUAL_HDWY', 'HDWY_DEV', 'hdwy_dev_percent']]"
   ]
  },
  {
   "cell_type": "markdown",
   "id": "c2126446",
   "metadata": {},
   "source": [
    "## **4. How much of a factor does the driver have on headway and on-time performance?**"
   ]
  },
  {
   "cell_type": "markdown",
   "id": "6f19ed10",
   "metadata": {},
   "source": [
    "- Make `hwdy_dev_percent` column to normalize data.\n",
    "\n",
    "- Make an `OPERATORS` dataframe containing each `UNIQUE OPERATOR`'s `AVG % ontime` and `AVG HDWY_DEV` across all records.\n",
    "    - `AVG % ontime` is derived from `AVG HDWY_DEV`.\n",
    "\n",
    "- Visualize distribution of `UNIQUE OPERATOR`s across each performance metric.\n",
    "\n",
    "- *Potential Considerations*:\n",
    "    - Remove `ACTUAL_ARRIVAL_TIME`'s **NULL** data.\n",
    "    - Remove `UNIQUE OPERATOR`'s **OUTLIERS** in `HDWY_DEV`\n",
    "    - Remove `UNIQUE OPERATOR`s with few records.\n",
    "        - This disregaurds new / unpracticed drivers.\n",
    "    - Remove `PREV_SCHED_STOP_CANCELLED` to remove high skewed HDWY_DEV.\n",
    "    - Remove `OVERLOAD_ID` to remove stops that were added on to the original schedule."
   ]
  },
  {
   "cell_type": "markdown",
   "id": "9296c10c",
   "metadata": {},
   "source": [
    "### Removed records with skewed high HDWY_DEV from conditions out of the operator's control\n",
    "- **PREV_SCHED_STOP_CANCELLED**: flags whether the previous timepoint crossing was cancelled or waived. Useful for excluding records where the headway values are extremely high because the bus is just coming off a detour"
   ]
  },
  {
   "cell_type": "code",
   "execution_count": 12,
   "id": "35f1be2b",
   "metadata": {},
   "outputs": [],
   "source": [
    "wego = wego.loc[wego.prev_sched_stop_cancelled != True]"
   ]
  },
  {
   "cell_type": "markdown",
   "id": "9d2ecb0f",
   "metadata": {},
   "source": [
    "### Removed records that were cancelled (Lots of **NULL** and skewed values)"
   ]
  },
  {
   "cell_type": "code",
   "execution_count": 13,
   "id": "fb8acef6",
   "metadata": {},
   "outputs": [],
   "source": [
    "wego = wego.loc[wego.stop_cancelled != True]"
   ]
  },
  {
   "cell_type": "markdown",
   "id": "3aa90220",
   "metadata": {},
   "source": [
    "### Created dataframe for each unique operator w/ their number of records"
   ]
  },
  {
   "cell_type": "code",
   "execution_count": 14,
   "id": "e6595611",
   "metadata": {},
   "outputs": [],
   "source": [
    "all_operators = wego.OPERATOR.value_counts().to_frame().reset_index()\n",
    "all_operators.columns = ['operator_id', 'num_records']"
   ]
  },
  {
   "cell_type": "markdown",
   "id": "2b8f9001",
   "metadata": {},
   "source": [
    "### For each operator: Returns AVG HDWY_DEV with and without outliers"
   ]
  },
  {
   "cell_type": "code",
   "execution_count": 15,
   "id": "83b7598d",
   "metadata": {},
   "outputs": [],
   "source": [
    "def operatorStats(operator, column):\n",
    "    df = wego.loc[wego.OPERATOR == operator]\n",
    "    df_desc = df[column].describe()\n",
    "    q1 = df_desc['25%']\n",
    "    q3 = df_desc['75%']\n",
    "    iqr = q3 - q1\n",
    "    upper_bound = q3 + (1.5 * iqr)\n",
    "    lower_bound = q1 - (1.5 * iqr)\n",
    "    df_no_outliers = df.loc[(df[column] > lower_bound)\n",
    "                          & (df[column] < upper_bound)]\n",
    "    \n",
    "    avg_hdwy_dev_percent = df.hdwy_dev_percent.mean()\n",
    "    \n",
    "    avg_column = df[column].mean()\n",
    "    \n",
    "    avg_no_outliers = df_no_outliers[column].mean()\n",
    "    \n",
    "    percent_outliers = 1 - (len(df_no_outliers) / len(df))\n",
    "    \n",
    "    return avg_column, avg_no_outliers, percent_outliers, avg_hdwy_dev_percent"
   ]
  },
  {
   "cell_type": "markdown",
   "id": "639380ce",
   "metadata": {},
   "source": [
    "### For each operator: Returns % of records for early, on time, and late"
   ]
  },
  {
   "cell_type": "code",
   "execution_count": 16,
   "id": "2a21bda5",
   "metadata": {},
   "outputs": [],
   "source": [
    "def percentEarly(operator): # Takes an operator id; Returns % of time they were early.\n",
    "    df = wego.loc[wego.OPERATOR == operator]\n",
    "    num_rows = len(df.early)\n",
    "    num_early = len(df.loc[df.early])\n",
    "    return num_early / num_rows"
   ]
  },
  {
   "cell_type": "code",
   "execution_count": 17,
   "id": "3229927b",
   "metadata": {},
   "outputs": [],
   "source": [
    "def percentOnTime(operator): # Takes an operator id; Returns % of time they were on time.\n",
    "    df = wego.loc[wego.OPERATOR == operator]\n",
    "    num_rows = len(df.ontime)\n",
    "    num_ontime = len(df.loc[df.ontime])\n",
    "    return num_ontime / num_rows"
   ]
  },
  {
   "cell_type": "code",
   "execution_count": 18,
   "id": "6b2101c2",
   "metadata": {},
   "outputs": [],
   "source": [
    "def percentLate(operator): # Takes an operator id; Returns % of time they were late\n",
    "    df = wego.loc[wego.OPERATOR == operator]\n",
    "    num_rows = len(df.late)\n",
    "    num_late = len(df.loc[df.late])\n",
    "    return num_late / num_rows"
   ]
  },
  {
   "cell_type": "code",
   "execution_count": 19,
   "id": "6ebee0f2",
   "metadata": {},
   "outputs": [
    {
     "data": {
      "text/plain": [
       "OPERATOR\n",
       "2352    2858\n",
       "1266    2837\n",
       "1147    2689\n",
       "1133    2602\n",
       "2424    2494\n",
       "        ... \n",
       "2377       9\n",
       "2256       6\n",
       "56         3\n",
       "473        2\n",
       "0          1\n",
       "Name: count, Length: 340, dtype: int64"
      ]
     },
     "execution_count": 19,
     "metadata": {},
     "output_type": "execute_result"
    }
   ],
   "source": [
    "wego.OPERATOR.value_counts()"
   ]
  },
  {
   "cell_type": "markdown",
   "id": "6fead3ca",
   "metadata": {},
   "source": [
    "### Removes Operators with < 389 records (1st Quartile of num_records) (commented out)"
   ]
  },
  {
   "cell_type": "code",
   "execution_count": 20,
   "id": "62d59fb6",
   "metadata": {},
   "outputs": [],
   "source": [
    "#op_rows_q1 = wego.OPERATOR.value_counts().describe()['25%']\n",
    "#operators = all_operators.loc[all_operators.num_records > op_rows_q1]\n",
    "operators = all_operators "
   ]
  },
  {
   "cell_type": "markdown",
   "id": "05b9ad2b",
   "metadata": {},
   "source": [
    "### Pulled avg_hdwy_dev stats for each Operator"
   ]
  },
  {
   "cell_type": "code",
   "execution_count": 21,
   "id": "a6a21544",
   "metadata": {},
   "outputs": [],
   "source": [
    "for index, values in operators.iterrows(): # Populates operators dataframe with each operator's HDWY_DEV stats\n",
    "    (\n",
    "    operators.loc[index, 'avg_hdwy_dev'],\n",
    "    operators.loc[index, 'avg_hdwy_dev_no_outliers'],\n",
    "    operators.loc[index, 'percent_outliers'],\n",
    "    operators.loc[index, 'avg_hdwy_dev_percent']\n",
    "    ) = operatorStats(values['operator_id'], 'HDWY_DEV');"
   ]
  },
  {
   "cell_type": "markdown",
   "id": "4809022e",
   "metadata": {},
   "source": [
    "### Pulled early/ontime/late percentages for each Operator"
   ]
  },
  {
   "cell_type": "code",
   "execution_count": 22,
   "id": "5d0e67a0",
   "metadata": {},
   "outputs": [],
   "source": [
    "operators['percent_early'] = operators.operator_id.apply(percentEarly)\n",
    "operators['percent_ontime'] = operators.operator_id.apply(percentOnTime)\n",
    "operators['percent_late'] = operators.operator_id.apply(percentLate)"
   ]
  },
  {
   "cell_type": "code",
   "execution_count": 23,
   "id": "e94bf1e9",
   "metadata": {},
   "outputs": [
    {
     "data": {
      "text/html": [
       "<div>\n",
       "<style scoped>\n",
       "    .dataframe tbody tr th:only-of-type {\n",
       "        vertical-align: middle;\n",
       "    }\n",
       "\n",
       "    .dataframe tbody tr th {\n",
       "        vertical-align: top;\n",
       "    }\n",
       "\n",
       "    .dataframe thead th {\n",
       "        text-align: right;\n",
       "    }\n",
       "</style>\n",
       "<table border=\"1\" class=\"dataframe\">\n",
       "  <thead>\n",
       "    <tr style=\"text-align: right;\">\n",
       "      <th></th>\n",
       "      <th>operator_id</th>\n",
       "      <th>num_records</th>\n",
       "      <th>avg_hdwy_dev</th>\n",
       "      <th>avg_hdwy_dev_no_outliers</th>\n",
       "      <th>percent_outliers</th>\n",
       "      <th>avg_hdwy_dev_percent</th>\n",
       "      <th>percent_early</th>\n",
       "      <th>percent_ontime</th>\n",
       "      <th>percent_late</th>\n",
       "    </tr>\n",
       "  </thead>\n",
       "  <tbody>\n",
       "    <tr>\n",
       "      <th>0</th>\n",
       "      <td>2352</td>\n",
       "      <td>2858</td>\n",
       "      <td>-0.617348</td>\n",
       "      <td>-1.743894</td>\n",
       "      <td>0.414626</td>\n",
       "      <td>-0.024728</td>\n",
       "      <td>0.074528</td>\n",
       "      <td>0.744227</td>\n",
       "      <td>0.082225</td>\n",
       "    </tr>\n",
       "    <tr>\n",
       "      <th>1</th>\n",
       "      <td>1266</td>\n",
       "      <td>2837</td>\n",
       "      <td>-0.399048</td>\n",
       "      <td>-0.193497</td>\n",
       "      <td>0.216778</td>\n",
       "      <td>-0.036152</td>\n",
       "      <td>0.026084</td>\n",
       "      <td>0.877688</td>\n",
       "      <td>0.089531</td>\n",
       "    </tr>\n",
       "    <tr>\n",
       "      <th>2</th>\n",
       "      <td>1147</td>\n",
       "      <td>2689</td>\n",
       "      <td>1.284798</td>\n",
       "      <td>-0.224359</td>\n",
       "      <td>0.473038</td>\n",
       "      <td>0.058298</td>\n",
       "      <td>0.059130</td>\n",
       "      <td>0.904054</td>\n",
       "      <td>0.030495</td>\n",
       "    </tr>\n",
       "  </tbody>\n",
       "</table>\n",
       "</div>"
      ],
      "text/plain": [
       "   operator_id  num_records  avg_hdwy_dev  avg_hdwy_dev_no_outliers  \\\n",
       "0         2352         2858     -0.617348                 -1.743894   \n",
       "1         1266         2837     -0.399048                 -0.193497   \n",
       "2         1147         2689      1.284798                 -0.224359   \n",
       "\n",
       "   percent_outliers  avg_hdwy_dev_percent  percent_early  percent_ontime  \\\n",
       "0          0.414626             -0.024728       0.074528        0.744227   \n",
       "1          0.216778             -0.036152       0.026084        0.877688   \n",
       "2          0.473038              0.058298       0.059130        0.904054   \n",
       "\n",
       "   percent_late  \n",
       "0      0.082225  \n",
       "1      0.089531  \n",
       "2      0.030495  "
      ]
     },
     "execution_count": 23,
     "metadata": {},
     "output_type": "execute_result"
    }
   ],
   "source": [
    "operators.head(3)"
   ]
  },
  {
   "cell_type": "markdown",
   "id": "8e68e8f5",
   "metadata": {},
   "source": [
    "## **4. How much of a factor does the driver have on headway and on-time performance?**"
   ]
  },
  {
   "cell_type": "code",
   "execution_count": 24,
   "id": "63a35ad1",
   "metadata": {},
   "outputs": [
    {
     "data": {
      "text/html": [
       "<div>\n",
       "<style scoped>\n",
       "    .dataframe tbody tr th:only-of-type {\n",
       "        vertical-align: middle;\n",
       "    }\n",
       "\n",
       "    .dataframe tbody tr th {\n",
       "        vertical-align: top;\n",
       "    }\n",
       "\n",
       "    .dataframe thead th {\n",
       "        text-align: right;\n",
       "    }\n",
       "</style>\n",
       "<table border=\"1\" class=\"dataframe\">\n",
       "  <thead>\n",
       "    <tr style=\"text-align: right;\">\n",
       "      <th></th>\n",
       "      <th>avg_hdwy_dev_percent</th>\n",
       "    </tr>\n",
       "  </thead>\n",
       "  <tbody>\n",
       "    <tr>\n",
       "      <th>count</th>\n",
       "      <td>333.000000</td>\n",
       "    </tr>\n",
       "    <tr>\n",
       "      <th>mean</th>\n",
       "      <td>0.033741</td>\n",
       "    </tr>\n",
       "    <tr>\n",
       "      <th>std</th>\n",
       "      <td>0.118863</td>\n",
       "    </tr>\n",
       "    <tr>\n",
       "      <th>min</th>\n",
       "      <td>-0.395035</td>\n",
       "    </tr>\n",
       "    <tr>\n",
       "      <th>25%</th>\n",
       "      <td>-0.025946</td>\n",
       "    </tr>\n",
       "    <tr>\n",
       "      <th>50%</th>\n",
       "      <td>0.022914</td>\n",
       "    </tr>\n",
       "    <tr>\n",
       "      <th>75%</th>\n",
       "      <td>0.086509</td>\n",
       "    </tr>\n",
       "    <tr>\n",
       "      <th>max</th>\n",
       "      <td>0.685068</td>\n",
       "    </tr>\n",
       "  </tbody>\n",
       "</table>\n",
       "</div>"
      ],
      "text/plain": [
       "       avg_hdwy_dev_percent\n",
       "count            333.000000\n",
       "mean               0.033741\n",
       "std                0.118863\n",
       "min               -0.395035\n",
       "25%               -0.025946\n",
       "50%                0.022914\n",
       "75%                0.086509\n",
       "max                0.685068"
      ]
     },
     "execution_count": 24,
     "metadata": {},
     "output_type": "execute_result"
    }
   ],
   "source": [
    "operators.describe()[['avg_hdwy_dev_percent']]"
   ]
  },
  {
   "cell_type": "code",
   "execution_count": 25,
   "id": "ab766e2c",
   "metadata": {
    "scrolled": true
   },
   "outputs": [
    {
     "data": {
      "image/png": "[encoded data removed]",
      "text/plain": [
       "<Figure size 1200x500 with 3 Axes>"
      ]
     },
     "metadata": {},
     "output_type": "display_data"
    }
   ],
   "source": [
    "fig, ax =plt.subplots(1,3, figsize=(12, 5))\n",
    "sns.boxplot(y=operators['percent_early'], ax=ax[0], color='green')\n",
    "sns.boxplot(y=operators['percent_ontime'], ax=ax[1])\n",
    "sns.boxplot(y=operators['percent_late'], ax=ax[2], color='orange')\n",
    "plt.savefig('timely_boxplots.png')\n",
    "fig.show()"
   ]
  },
  {
   "cell_type": "code",
   "execution_count": 26,
   "id": "55ba4cbd",
   "metadata": {},
   "outputs": [
    {
     "data": {
      "image/png": "[encoded data removed]",
      "text/plain": [
       "<Figure size 600x900 with 1 Axes>"
      ]
     },
     "metadata": {},
     "output_type": "display_data"
    }
   ],
   "source": [
    "plt.figure(figsize=(4,6), dpi=150)\n",
    "sns.boxplot(y=operators['percent_ontime']\n",
    "           ,color='#73c6a1')\n",
    "plt.title('Distribution of Drivers by % On-time'\n",
    "         ,pad=20)\n",
    "plt.ylabel('% On-time')\n",
    "plt.yticks(ticks=[0, 0.2, 0.4, 0.6, 0.8, 1]\n",
    "          ,labels=['0%', '20%', '40%', '60%', '80%', '100%'])\n",
    "# plt.savefig('ontime_boxplot.png'\n",
    "#            ,bbox_inches='tight')\n",
    "plt.show();"
   ]
  },
  {
   "cell_type": "code",
   "execution_count": 27,
   "id": "66059c87",
   "metadata": {
    "scrolled": true
   },
   "outputs": [
    {
     "data": {
      "image/png": "[encoded data removed]",
      "text/plain": [
       "<Figure size 1200x500 with 2 Axes>"
      ]
     },
     "metadata": {},
     "output_type": "display_data"
    }
   ],
   "source": [
    "fig, ax =plt.subplots(1,2, figsize=(12, 5))\n",
    "sns.histplot(operators['avg_hdwy_dev_percent'], ax=ax[1], bins=15, color='violet')\n",
    "sns.boxplot(y=operators['avg_hdwy_dev_percent'], ax=ax[0], color='violet')\n",
    "fig.show()\n",
    "\n",
    "# Negative HDWY_DEV = Bunching, Time between buses is shorter than scheduled.\n",
    "# Positive HDWY_DEV = Gapping, Time between buses is longer than scheduled."
   ]
  },
  {
   "cell_type": "code",
   "execution_count": 28,
   "id": "7b92187b",
   "metadata": {},
   "outputs": [
    {
     "data": {
      "image/png": "[encoded data removed]",
      "text/plain": [
       "<Figure size 600x900 with 1 Axes>"
      ]
     },
     "metadata": {},
     "output_type": "display_data"
    }
   ],
   "source": [
    "plt.figure(figsize=(4,6), dpi=150)\n",
    "sns.boxplot(y=operators['avg_hdwy_dev_percent']\n",
    "           ,color='#fbb161')\n",
    "plt.title('Distribution of Drivers by Avg % Headway Deviation'\n",
    "         ,pad=20)\n",
    "plt.ylabel('Avg Headway Deviation %')\n",
    "plt.yticks(ticks=[-0.4, -0.2, 0, 0.2, 0.4, 0.6, 0.8]\n",
    "          ,labels=['-40%', '-20%', '0%', '20%', '40%', '60%', '80%'])\n",
    "# plt.savefig('hdwy_dev_boxplot.png'\n",
    "#            ,bbox_inches='tight')\n",
    "plt.show();"
   ]
  },
  {
   "cell_type": "code",
   "execution_count": 29,
   "id": "563f66fc",
   "metadata": {},
   "outputs": [
    {
     "data": {
      "text/html": [
       "<div>\n",
       "<style scoped>\n",
       "    .dataframe tbody tr th:only-of-type {\n",
       "        vertical-align: middle;\n",
       "    }\n",
       "\n",
       "    .dataframe tbody tr th {\n",
       "        vertical-align: top;\n",
       "    }\n",
       "\n",
       "    .dataframe thead th {\n",
       "        text-align: right;\n",
       "    }\n",
       "</style>\n",
       "<table border=\"1\" class=\"dataframe\">\n",
       "  <thead>\n",
       "    <tr style=\"text-align: right;\">\n",
       "      <th></th>\n",
       "      <th>num_records</th>\n",
       "    </tr>\n",
       "  </thead>\n",
       "  <tbody>\n",
       "    <tr>\n",
       "      <th>operator_id</th>\n",
       "      <td>-0.240031</td>\n",
       "    </tr>\n",
       "    <tr>\n",
       "      <th>num_records</th>\n",
       "      <td>1.000000</td>\n",
       "    </tr>\n",
       "    <tr>\n",
       "      <th>avg_hdwy_dev</th>\n",
       "      <td>-0.053500</td>\n",
       "    </tr>\n",
       "    <tr>\n",
       "      <th>avg_hdwy_dev_no_outliers</th>\n",
       "      <td>-0.097034</td>\n",
       "    </tr>\n",
       "    <tr>\n",
       "      <th>percent_outliers</th>\n",
       "      <td>-0.222395</td>\n",
       "    </tr>\n",
       "    <tr>\n",
       "      <th>avg_hdwy_dev_percent</th>\n",
       "      <td>-0.061489</td>\n",
       "    </tr>\n",
       "    <tr>\n",
       "      <th>percent_early</th>\n",
       "      <td>-0.129024</td>\n",
       "    </tr>\n",
       "    <tr>\n",
       "      <th>percent_ontime</th>\n",
       "      <td>0.254725</td>\n",
       "    </tr>\n",
       "    <tr>\n",
       "      <th>percent_late</th>\n",
       "      <td>-0.166831</td>\n",
       "    </tr>\n",
       "  </tbody>\n",
       "</table>\n",
       "</div>"
      ],
      "text/plain": [
       "                          num_records\n",
       "operator_id                 -0.240031\n",
       "num_records                  1.000000\n",
       "avg_hdwy_dev                -0.053500\n",
       "avg_hdwy_dev_no_outliers    -0.097034\n",
       "percent_outliers            -0.222395\n",
       "avg_hdwy_dev_percent        -0.061489\n",
       "percent_early               -0.129024\n",
       "percent_ontime               0.254725\n",
       "percent_late                -0.166831"
      ]
     },
     "execution_count": 29,
     "metadata": {},
     "output_type": "execute_result"
    }
   ],
   "source": [
    "operators.corr()[['num_records']]"
   ]
  },
  {
   "cell_type": "code",
   "execution_count": 30,
   "id": "b0cdf486",
   "metadata": {},
   "outputs": [
    {
     "data": {
      "image/png": "[encoded data removed]",
      "text/plain": [
       "<Figure size 640x480 with 1 Axes>"
      ]
     },
     "metadata": {},
     "output_type": "display_data"
    }
   ],
   "source": [
    "sns.histplot(operators['percent_outliers'], color='red');"
   ]
  },
  {
   "cell_type": "code",
   "execution_count": 31,
   "id": "68d58a5a",
   "metadata": {},
   "outputs": [
    {
     "data": {
      "image/png": "[encoded data removed]",
      "text/plain": [
       "<Figure size 1200x500 with 4 Axes>"
      ]
     },
     "metadata": {},
     "output_type": "display_data"
    }
   ],
   "source": [
    "fig, ax =plt.subplots(1,2, figsize=(12, 5))\n",
    "sns.histplot(data=operators\n",
    "            ,x='avg_hdwy_dev'\n",
    "            ,y='percent_ontime'\n",
    "            ,cbar=True\n",
    "            ,cbar_kws=dict(shrink=0.75)\n",
    "            ,bins=22\n",
    "            , ax=ax[0])\n",
    "sns.histplot(data=operators\n",
    "            ,x='avg_hdwy_dev_no_outliers'\n",
    "            ,y='percent_ontime'\n",
    "            ,cbar=True\n",
    "            ,cbar_kws=dict(shrink=0.75)\n",
    "            ,bins=22\n",
    "            , ax=ax[1])\n",
    "fig.show()"
   ]
  },
  {
   "cell_type": "code",
   "execution_count": 32,
   "id": "6ff04a7c",
   "metadata": {},
   "outputs": [],
   "source": [
    "# FIXME Make box plots for each quartile of num_records in operators dataframe"
   ]
  }
 ],
 "metadata": {
  "kernelspec": {
   "display_name": "Python 3 (ipykernel)",
   "language": "python",
   "name": "python3"
  },
  "language_info": {
   "codemirror_mode": {
    "name": "ipython",
    "version": 3
   },
   "file_extension": ".py",
   "mimetype": "text/x-python",
   "name": "python",
   "nbconvert_exporter": "python",
   "pygments_lexer": "ipython3",
   "version": "3.11.5"
  }
 },
 "nbformat": 4,
 "nbformat_minor": 5
}
